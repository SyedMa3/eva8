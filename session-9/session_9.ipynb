{
  "nbformat": 4,
  "nbformat_minor": 0,
  "metadata": {
    "colab": {
      "provenance": []
    },
    "kernelspec": {
      "name": "python3",
      "display_name": "Python 3"
    },
    "language_info": {
      "name": "python"
    },
    "accelerator": "GPU",
    "gpuClass": "standard",
    "widgets": {
      "application/vnd.jupyter.widget-state+json": {
        "121f6bdd8e8d4286a03863ebc66ea4bb": {
          "model_module": "@jupyter-widgets/controls",
          "model_name": "HBoxModel",
          "model_module_version": "1.5.0",
          "state": {
            "_dom_classes": [],
            "_model_module": "@jupyter-widgets/controls",
            "_model_module_version": "1.5.0",
            "_model_name": "HBoxModel",
            "_view_count": null,
            "_view_module": "@jupyter-widgets/controls",
            "_view_module_version": "1.5.0",
            "_view_name": "HBoxView",
            "box_style": "",
            "children": [
              "IPY_MODEL_c552cc98e24444b78cbc5315ef08eb43",
              "IPY_MODEL_e4e575279cd94bc49def46b94ac32b98",
              "IPY_MODEL_f344c830304e41be9677596fa4d14f13"
            ],
            "layout": "IPY_MODEL_9f85cb9eb53e41a6a0cd10d1994327ff"
          }
        },
        "c552cc98e24444b78cbc5315ef08eb43": {
          "model_module": "@jupyter-widgets/controls",
          "model_name": "HTMLModel",
          "model_module_version": "1.5.0",
          "state": {
            "_dom_classes": [],
            "_model_module": "@jupyter-widgets/controls",
            "_model_module_version": "1.5.0",
            "_model_name": "HTMLModel",
            "_view_count": null,
            "_view_module": "@jupyter-widgets/controls",
            "_view_module_version": "1.5.0",
            "_view_name": "HTMLView",
            "description": "",
            "description_tooltip": null,
            "layout": "IPY_MODEL_1f5f810c724e4b67bd0483f024af4849",
            "placeholder": "​",
            "style": "IPY_MODEL_6f2e683eb02b4df6b5ab14f07ec383bc",
            "value": "100%"
          }
        },
        "e4e575279cd94bc49def46b94ac32b98": {
          "model_module": "@jupyter-widgets/controls",
          "model_name": "FloatProgressModel",
          "model_module_version": "1.5.0",
          "state": {
            "_dom_classes": [],
            "_model_module": "@jupyter-widgets/controls",
            "_model_module_version": "1.5.0",
            "_model_name": "FloatProgressModel",
            "_view_count": null,
            "_view_module": "@jupyter-widgets/controls",
            "_view_module_version": "1.5.0",
            "_view_name": "ProgressView",
            "bar_style": "success",
            "description": "",
            "description_tooltip": null,
            "layout": "IPY_MODEL_3c202ff8777a47bcb3ce06040b3191a1",
            "max": 170498071,
            "min": 0,
            "orientation": "horizontal",
            "style": "IPY_MODEL_89aea9a1cbae4e88bc263bda48b163a6",
            "value": 170498071
          }
        },
        "f344c830304e41be9677596fa4d14f13": {
          "model_module": "@jupyter-widgets/controls",
          "model_name": "HTMLModel",
          "model_module_version": "1.5.0",
          "state": {
            "_dom_classes": [],
            "_model_module": "@jupyter-widgets/controls",
            "_model_module_version": "1.5.0",
            "_model_name": "HTMLModel",
            "_view_count": null,
            "_view_module": "@jupyter-widgets/controls",
            "_view_module_version": "1.5.0",
            "_view_name": "HTMLView",
            "description": "",
            "description_tooltip": null,
            "layout": "IPY_MODEL_bf0304e90e1b4e5b91b4375ee803a917",
            "placeholder": "​",
            "style": "IPY_MODEL_2e3197fb76b746029f8f3a46bd440021",
            "value": " 170498071/170498071 [00:05&lt;00:00, 32881400.45it/s]"
          }
        },
        "9f85cb9eb53e41a6a0cd10d1994327ff": {
          "model_module": "@jupyter-widgets/base",
          "model_name": "LayoutModel",
          "model_module_version": "1.2.0",
          "state": {
            "_model_module": "@jupyter-widgets/base",
            "_model_module_version": "1.2.0",
            "_model_name": "LayoutModel",
            "_view_count": null,
            "_view_module": "@jupyter-widgets/base",
            "_view_module_version": "1.2.0",
            "_view_name": "LayoutView",
            "align_content": null,
            "align_items": null,
            "align_self": null,
            "border": null,
            "bottom": null,
            "display": null,
            "flex": null,
            "flex_flow": null,
            "grid_area": null,
            "grid_auto_columns": null,
            "grid_auto_flow": null,
            "grid_auto_rows": null,
            "grid_column": null,
            "grid_gap": null,
            "grid_row": null,
            "grid_template_areas": null,
            "grid_template_columns": null,
            "grid_template_rows": null,
            "height": null,
            "justify_content": null,
            "justify_items": null,
            "left": null,
            "margin": null,
            "max_height": null,
            "max_width": null,
            "min_height": null,
            "min_width": null,
            "object_fit": null,
            "object_position": null,
            "order": null,
            "overflow": null,
            "overflow_x": null,
            "overflow_y": null,
            "padding": null,
            "right": null,
            "top": null,
            "visibility": null,
            "width": null
          }
        },
        "1f5f810c724e4b67bd0483f024af4849": {
          "model_module": "@jupyter-widgets/base",
          "model_name": "LayoutModel",
          "model_module_version": "1.2.0",
          "state": {
            "_model_module": "@jupyter-widgets/base",
            "_model_module_version": "1.2.0",
            "_model_name": "LayoutModel",
            "_view_count": null,
            "_view_module": "@jupyter-widgets/base",
            "_view_module_version": "1.2.0",
            "_view_name": "LayoutView",
            "align_content": null,
            "align_items": null,
            "align_self": null,
            "border": null,
            "bottom": null,
            "display": null,
            "flex": null,
            "flex_flow": null,
            "grid_area": null,
            "grid_auto_columns": null,
            "grid_auto_flow": null,
            "grid_auto_rows": null,
            "grid_column": null,
            "grid_gap": null,
            "grid_row": null,
            "grid_template_areas": null,
            "grid_template_columns": null,
            "grid_template_rows": null,
            "height": null,
            "justify_content": null,
            "justify_items": null,
            "left": null,
            "margin": null,
            "max_height": null,
            "max_width": null,
            "min_height": null,
            "min_width": null,
            "object_fit": null,
            "object_position": null,
            "order": null,
            "overflow": null,
            "overflow_x": null,
            "overflow_y": null,
            "padding": null,
            "right": null,
            "top": null,
            "visibility": null,
            "width": null
          }
        },
        "6f2e683eb02b4df6b5ab14f07ec383bc": {
          "model_module": "@jupyter-widgets/controls",
          "model_name": "DescriptionStyleModel",
          "model_module_version": "1.5.0",
          "state": {
            "_model_module": "@jupyter-widgets/controls",
            "_model_module_version": "1.5.0",
            "_model_name": "DescriptionStyleModel",
            "_view_count": null,
            "_view_module": "@jupyter-widgets/base",
            "_view_module_version": "1.2.0",
            "_view_name": "StyleView",
            "description_width": ""
          }
        },
        "3c202ff8777a47bcb3ce06040b3191a1": {
          "model_module": "@jupyter-widgets/base",
          "model_name": "LayoutModel",
          "model_module_version": "1.2.0",
          "state": {
            "_model_module": "@jupyter-widgets/base",
            "_model_module_version": "1.2.0",
            "_model_name": "LayoutModel",
            "_view_count": null,
            "_view_module": "@jupyter-widgets/base",
            "_view_module_version": "1.2.0",
            "_view_name": "LayoutView",
            "align_content": null,
            "align_items": null,
            "align_self": null,
            "border": null,
            "bottom": null,
            "display": null,
            "flex": null,
            "flex_flow": null,
            "grid_area": null,
            "grid_auto_columns": null,
            "grid_auto_flow": null,
            "grid_auto_rows": null,
            "grid_column": null,
            "grid_gap": null,
            "grid_row": null,
            "grid_template_areas": null,
            "grid_template_columns": null,
            "grid_template_rows": null,
            "height": null,
            "justify_content": null,
            "justify_items": null,
            "left": null,
            "margin": null,
            "max_height": null,
            "max_width": null,
            "min_height": null,
            "min_width": null,
            "object_fit": null,
            "object_position": null,
            "order": null,
            "overflow": null,
            "overflow_x": null,
            "overflow_y": null,
            "padding": null,
            "right": null,
            "top": null,
            "visibility": null,
            "width": null
          }
        },
        "89aea9a1cbae4e88bc263bda48b163a6": {
          "model_module": "@jupyter-widgets/controls",
          "model_name": "ProgressStyleModel",
          "model_module_version": "1.5.0",
          "state": {
            "_model_module": "@jupyter-widgets/controls",
            "_model_module_version": "1.5.0",
            "_model_name": "ProgressStyleModel",
            "_view_count": null,
            "_view_module": "@jupyter-widgets/base",
            "_view_module_version": "1.2.0",
            "_view_name": "StyleView",
            "bar_color": null,
            "description_width": ""
          }
        },
        "bf0304e90e1b4e5b91b4375ee803a917": {
          "model_module": "@jupyter-widgets/base",
          "model_name": "LayoutModel",
          "model_module_version": "1.2.0",
          "state": {
            "_model_module": "@jupyter-widgets/base",
            "_model_module_version": "1.2.0",
            "_model_name": "LayoutModel",
            "_view_count": null,
            "_view_module": "@jupyter-widgets/base",
            "_view_module_version": "1.2.0",
            "_view_name": "LayoutView",
            "align_content": null,
            "align_items": null,
            "align_self": null,
            "border": null,
            "bottom": null,
            "display": null,
            "flex": null,
            "flex_flow": null,
            "grid_area": null,
            "grid_auto_columns": null,
            "grid_auto_flow": null,
            "grid_auto_rows": null,
            "grid_column": null,
            "grid_gap": null,
            "grid_row": null,
            "grid_template_areas": null,
            "grid_template_columns": null,
            "grid_template_rows": null,
            "height": null,
            "justify_content": null,
            "justify_items": null,
            "left": null,
            "margin": null,
            "max_height": null,
            "max_width": null,
            "min_height": null,
            "min_width": null,
            "object_fit": null,
            "object_position": null,
            "order": null,
            "overflow": null,
            "overflow_x": null,
            "overflow_y": null,
            "padding": null,
            "right": null,
            "top": null,
            "visibility": null,
            "width": null
          }
        },
        "2e3197fb76b746029f8f3a46bd440021": {
          "model_module": "@jupyter-widgets/controls",
          "model_name": "DescriptionStyleModel",
          "model_module_version": "1.5.0",
          "state": {
            "_model_module": "@jupyter-widgets/controls",
            "_model_module_version": "1.5.0",
            "_model_name": "DescriptionStyleModel",
            "_view_count": null,
            "_view_module": "@jupyter-widgets/base",
            "_view_module_version": "1.2.0",
            "_view_name": "StyleView",
            "description_width": ""
          }
        },
        "92a8e6c2e79d4c7d92dd923d379dd1fe": {
          "model_module": "@jupyter-widgets/controls",
          "model_name": "HBoxModel",
          "model_module_version": "1.5.0",
          "state": {
            "_dom_classes": [],
            "_model_module": "@jupyter-widgets/controls",
            "_model_module_version": "1.5.0",
            "_model_name": "HBoxModel",
            "_view_count": null,
            "_view_module": "@jupyter-widgets/controls",
            "_view_module_version": "1.5.0",
            "_view_name": "HBoxView",
            "box_style": "",
            "children": [
              "IPY_MODEL_4cbd2688d912445ebeacf295d0c40053",
              "IPY_MODEL_450a832b3ec34fb4aab94ea63692a739",
              "IPY_MODEL_5f27a9afbba24fcaa61395935995de36"
            ],
            "layout": "IPY_MODEL_cc682da9830943479619982b4c79f8d4"
          }
        },
        "4cbd2688d912445ebeacf295d0c40053": {
          "model_module": "@jupyter-widgets/controls",
          "model_name": "HTMLModel",
          "model_module_version": "1.5.0",
          "state": {
            "_dom_classes": [],
            "_model_module": "@jupyter-widgets/controls",
            "_model_module_version": "1.5.0",
            "_model_name": "HTMLModel",
            "_view_count": null,
            "_view_module": "@jupyter-widgets/controls",
            "_view_module_version": "1.5.0",
            "_view_name": "HTMLView",
            "description": "",
            "description_tooltip": null,
            "layout": "IPY_MODEL_7bf062c49f2044c2ac313a21f8cfe12d",
            "placeholder": "​",
            "style": "IPY_MODEL_f2fb0fcd3e3a4866a59c927bbfd13b1d",
            "value": "100%"
          }
        },
        "450a832b3ec34fb4aab94ea63692a739": {
          "model_module": "@jupyter-widgets/controls",
          "model_name": "FloatProgressModel",
          "model_module_version": "1.5.0",
          "state": {
            "_dom_classes": [],
            "_model_module": "@jupyter-widgets/controls",
            "_model_module_version": "1.5.0",
            "_model_name": "FloatProgressModel",
            "_view_count": null,
            "_view_module": "@jupyter-widgets/controls",
            "_view_module_version": "1.5.0",
            "_view_name": "ProgressView",
            "bar_style": "success",
            "description": "",
            "description_tooltip": null,
            "layout": "IPY_MODEL_fe5f9d8271404ee29666652b18102e02",
            "max": 200,
            "min": 0,
            "orientation": "horizontal",
            "style": "IPY_MODEL_c2563e992b564b479ad28f49bb49e9ec",
            "value": 200
          }
        },
        "5f27a9afbba24fcaa61395935995de36": {
          "model_module": "@jupyter-widgets/controls",
          "model_name": "HTMLModel",
          "model_module_version": "1.5.0",
          "state": {
            "_dom_classes": [],
            "_model_module": "@jupyter-widgets/controls",
            "_model_module_version": "1.5.0",
            "_model_name": "HTMLModel",
            "_view_count": null,
            "_view_module": "@jupyter-widgets/controls",
            "_view_module_version": "1.5.0",
            "_view_name": "HTMLView",
            "description": "",
            "description_tooltip": null,
            "layout": "IPY_MODEL_e53242929aa647348706bc49545b8191",
            "placeholder": "​",
            "style": "IPY_MODEL_076de0463e7b4dcd9e40cbd7b70b5b16",
            "value": " 200/200 [00:45&lt;00:00,  5.69it/s]"
          }
        },
        "cc682da9830943479619982b4c79f8d4": {
          "model_module": "@jupyter-widgets/base",
          "model_name": "LayoutModel",
          "model_module_version": "1.2.0",
          "state": {
            "_model_module": "@jupyter-widgets/base",
            "_model_module_version": "1.2.0",
            "_model_name": "LayoutModel",
            "_view_count": null,
            "_view_module": "@jupyter-widgets/base",
            "_view_module_version": "1.2.0",
            "_view_name": "LayoutView",
            "align_content": null,
            "align_items": null,
            "align_self": null,
            "border": null,
            "bottom": null,
            "display": null,
            "flex": null,
            "flex_flow": null,
            "grid_area": null,
            "grid_auto_columns": null,
            "grid_auto_flow": null,
            "grid_auto_rows": null,
            "grid_column": null,
            "grid_gap": null,
            "grid_row": null,
            "grid_template_areas": null,
            "grid_template_columns": null,
            "grid_template_rows": null,
            "height": null,
            "justify_content": null,
            "justify_items": null,
            "left": null,
            "margin": null,
            "max_height": null,
            "max_width": null,
            "min_height": null,
            "min_width": null,
            "object_fit": null,
            "object_position": null,
            "order": null,
            "overflow": null,
            "overflow_x": null,
            "overflow_y": null,
            "padding": null,
            "right": null,
            "top": null,
            "visibility": null,
            "width": null
          }
        },
        "7bf062c49f2044c2ac313a21f8cfe12d": {
          "model_module": "@jupyter-widgets/base",
          "model_name": "LayoutModel",
          "model_module_version": "1.2.0",
          "state": {
            "_model_module": "@jupyter-widgets/base",
            "_model_module_version": "1.2.0",
            "_model_name": "LayoutModel",
            "_view_count": null,
            "_view_module": "@jupyter-widgets/base",
            "_view_module_version": "1.2.0",
            "_view_name": "LayoutView",
            "align_content": null,
            "align_items": null,
            "align_self": null,
            "border": null,
            "bottom": null,
            "display": null,
            "flex": null,
            "flex_flow": null,
            "grid_area": null,
            "grid_auto_columns": null,
            "grid_auto_flow": null,
            "grid_auto_rows": null,
            "grid_column": null,
            "grid_gap": null,
            "grid_row": null,
            "grid_template_areas": null,
            "grid_template_columns": null,
            "grid_template_rows": null,
            "height": null,
            "justify_content": null,
            "justify_items": null,
            "left": null,
            "margin": null,
            "max_height": null,
            "max_width": null,
            "min_height": null,
            "min_width": null,
            "object_fit": null,
            "object_position": null,
            "order": null,
            "overflow": null,
            "overflow_x": null,
            "overflow_y": null,
            "padding": null,
            "right": null,
            "top": null,
            "visibility": null,
            "width": null
          }
        },
        "f2fb0fcd3e3a4866a59c927bbfd13b1d": {
          "model_module": "@jupyter-widgets/controls",
          "model_name": "DescriptionStyleModel",
          "model_module_version": "1.5.0",
          "state": {
            "_model_module": "@jupyter-widgets/controls",
            "_model_module_version": "1.5.0",
            "_model_name": "DescriptionStyleModel",
            "_view_count": null,
            "_view_module": "@jupyter-widgets/base",
            "_view_module_version": "1.2.0",
            "_view_name": "StyleView",
            "description_width": ""
          }
        },
        "fe5f9d8271404ee29666652b18102e02": {
          "model_module": "@jupyter-widgets/base",
          "model_name": "LayoutModel",
          "model_module_version": "1.2.0",
          "state": {
            "_model_module": "@jupyter-widgets/base",
            "_model_module_version": "1.2.0",
            "_model_name": "LayoutModel",
            "_view_count": null,
            "_view_module": "@jupyter-widgets/base",
            "_view_module_version": "1.2.0",
            "_view_name": "LayoutView",
            "align_content": null,
            "align_items": null,
            "align_self": null,
            "border": null,
            "bottom": null,
            "display": null,
            "flex": null,
            "flex_flow": null,
            "grid_area": null,
            "grid_auto_columns": null,
            "grid_auto_flow": null,
            "grid_auto_rows": null,
            "grid_column": null,
            "grid_gap": null,
            "grid_row": null,
            "grid_template_areas": null,
            "grid_template_columns": null,
            "grid_template_rows": null,
            "height": null,
            "justify_content": null,
            "justify_items": null,
            "left": null,
            "margin": null,
            "max_height": null,
            "max_width": null,
            "min_height": null,
            "min_width": null,
            "object_fit": null,
            "object_position": null,
            "order": null,
            "overflow": null,
            "overflow_x": null,
            "overflow_y": null,
            "padding": null,
            "right": null,
            "top": null,
            "visibility": null,
            "width": null
          }
        },
        "c2563e992b564b479ad28f49bb49e9ec": {
          "model_module": "@jupyter-widgets/controls",
          "model_name": "ProgressStyleModel",
          "model_module_version": "1.5.0",
          "state": {
            "_model_module": "@jupyter-widgets/controls",
            "_model_module_version": "1.5.0",
            "_model_name": "ProgressStyleModel",
            "_view_count": null,
            "_view_module": "@jupyter-widgets/base",
            "_view_module_version": "1.2.0",
            "_view_name": "StyleView",
            "bar_color": null,
            "description_width": ""
          }
        },
        "e53242929aa647348706bc49545b8191": {
          "model_module": "@jupyter-widgets/base",
          "model_name": "LayoutModel",
          "model_module_version": "1.2.0",
          "state": {
            "_model_module": "@jupyter-widgets/base",
            "_model_module_version": "1.2.0",
            "_model_name": "LayoutModel",
            "_view_count": null,
            "_view_module": "@jupyter-widgets/base",
            "_view_module_version": "1.2.0",
            "_view_name": "LayoutView",
            "align_content": null,
            "align_items": null,
            "align_self": null,
            "border": null,
            "bottom": null,
            "display": null,
            "flex": null,
            "flex_flow": null,
            "grid_area": null,
            "grid_auto_columns": null,
            "grid_auto_flow": null,
            "grid_auto_rows": null,
            "grid_column": null,
            "grid_gap": null,
            "grid_row": null,
            "grid_template_areas": null,
            "grid_template_columns": null,
            "grid_template_rows": null,
            "height": null,
            "justify_content": null,
            "justify_items": null,
            "left": null,
            "margin": null,
            "max_height": null,
            "max_width": null,
            "min_height": null,
            "min_width": null,
            "object_fit": null,
            "object_position": null,
            "order": null,
            "overflow": null,
            "overflow_x": null,
            "overflow_y": null,
            "padding": null,
            "right": null,
            "top": null,
            "visibility": null,
            "width": null
          }
        },
        "076de0463e7b4dcd9e40cbd7b70b5b16": {
          "model_module": "@jupyter-widgets/controls",
          "model_name": "DescriptionStyleModel",
          "model_module_version": "1.5.0",
          "state": {
            "_model_module": "@jupyter-widgets/controls",
            "_model_module_version": "1.5.0",
            "_model_name": "DescriptionStyleModel",
            "_view_count": null,
            "_view_module": "@jupyter-widgets/base",
            "_view_module_version": "1.2.0",
            "_view_name": "StyleView",
            "description_width": ""
          }
        }
      }
    }
  },
  "cells": [
    {
      "cell_type": "code",
      "execution_count": 1,
      "metadata": {
        "colab": {
          "base_uri": "https://localhost:8080/"
        },
        "id": "hUC5stRWw6xB",
        "outputId": "56a0ac61-2923-4528-a5cc-fd82eef6c1ec"
      },
      "outputs": [
        {
          "output_type": "stream",
          "name": "stdout",
          "text": [
            "Cloning into 'eva-template'...\n",
            "remote: Enumerating objects: 119, done.\u001b[K\n",
            "remote: Counting objects: 100% (119/119), done.\u001b[K\n",
            "remote: Compressing objects: 100% (85/85), done.\u001b[K\n",
            "remote: Total 119 (delta 55), reused 97 (delta 33), pack-reused 0\u001b[K\n",
            "Receiving objects: 100% (119/119), 20.67 KiB | 10.34 MiB/s, done.\n",
            "Resolving deltas: 100% (55/55), done.\n",
            "/content/eva-template\n"
          ]
        }
      ],
      "source": [
        "!git clone https://github.com/SyedMa3/eva-template.git\n",
        "%cd eva-template/"
      ]
    },
    {
      "cell_type": "code",
      "source": [
        "!pip install torch_lr_finder -q\n",
        "!pip install -U albumentations -q"
      ],
      "metadata": {
        "colab": {
          "base_uri": "https://localhost:8080/"
        },
        "id": "V9a7YXUHxZ_l",
        "outputId": "40cf9800-4c31-4a12-b058-47c52c7d2962"
      },
      "execution_count": 2,
      "outputs": [
        {
          "output_type": "stream",
          "name": "stdout",
          "text": [
            "\u001b[?25l     \u001b[90m━━━━━━━━━━━━━━━━━━━━━━━━━━━━━━━━━━━━━━━━\u001b[0m \u001b[32m0.0/123.5 KB\u001b[0m \u001b[31m?\u001b[0m eta \u001b[36m-:--:--\u001b[0m\r\u001b[2K     \u001b[91m━━━━━━━━━━━━━━━━━━━━━━━━━━━━━━━━━━━━━\u001b[0m\u001b[91m╸\u001b[0m \u001b[32m122.9/123.5 KB\u001b[0m \u001b[31m13.5 MB/s\u001b[0m eta \u001b[36m0:00:01\u001b[0m\r\u001b[2K     \u001b[90m━━━━━━━━━━━━━━━━━━━━━━━━━━━━━━━━━━━━━━━\u001b[0m \u001b[32m123.5/123.5 KB\u001b[0m \u001b[31m2.9 MB/s\u001b[0m eta \u001b[36m0:00:00\u001b[0m\n",
            "\u001b[?25h"
          ]
        }
      ]
    },
    {
      "cell_type": "code",
      "source": [
        "import matplotlib.pyplot as plt\n",
        "import numpy as np\n",
        "\n",
        "import albumentations as A\n",
        "from albumentations.pytorch import ToTensorV2\n",
        "\n",
        "import torch\n",
        "import torch.nn as nn\n",
        "import torch.nn.functional as F\n",
        "import torch.optim as optim\n",
        "from torchsummary import summary\n",
        "from torch.utils.data import Dataset, DataLoader\n",
        "\n",
        "import torchvision\n",
        "from torchvision import datasets, transforms\n",
        "from tqdm import tqdm"
      ],
      "metadata": {
        "id": "jEvJgTgqxj-h"
      },
      "execution_count": 3,
      "outputs": []
    },
    {
      "cell_type": "code",
      "source": [
        "from models.model9 import CustomTransformer\n",
        "from main import fit_model"
      ],
      "metadata": {
        "id": "3_YX3gshxmLL"
      },
      "execution_count": 4,
      "outputs": []
    },
    {
      "cell_type": "code",
      "source": [
        "class AlbumentationImageDataset(Dataset):\n",
        "  def __init__(self, image_list, train= True):\n",
        "      self.image_list = image_list\n",
        "      self.aug = A.Compose(\n",
        "                [\n",
        "                    # A.OneOf([\n",
        "                      A.Sequential([\n",
        "                          A.PadIfNeeded(min_height=40, min_width=40, always_apply=True),  # padding of 4 on each side of 32x32 image\n",
        "                          A.RandomCrop(height=32, width=32, always_apply=True),\n",
        "                          A.CoarseDropout(max_height=8, max_width=8, min_height=8, min_width=8, min_holes=1, max_holes=1, fill_value=(0.49139968, 0.48215841, 0.44653091), always_apply=True),\n",
        "                      ], p=1),\n",
        "                        # A.Sequential([\n",
        "                        # ], p=1)\n",
        "                    # ], p=1),  # Always apply at least one of the above transformations.\n",
        "                    A.HorizontalFlip(),\n",
        "                    A.Normalize(mean=(0.49139968, 0.48215841, 0.44653091), std=(0.24703223, 0.24348513, 0.26158784), always_apply=True),\n",
        "                ]\n",
        "            )\n",
        "\n",
        "      self.norm = A.Compose({A.Normalize((0.49139968, 0.48215841, 0.44653091), (0.24703223, 0.24348513, 0.26158784), always_apply=True),\n",
        "      })\n",
        "      self.train = train\n",
        "        \n",
        "  def __len__(self):\n",
        "      return (len(self.image_list))\n",
        "\n",
        "  def __getitem__(self, i):\n",
        "      \n",
        "      image, label = self.image_list[i]\n",
        "      \n",
        "      if self.train:\n",
        "        #apply augmentation only for training\n",
        "        image = self.aug(image=np.array(image))['image']\n",
        "      else:\n",
        "        image = self.norm(image=np.array(image))['image']\n",
        "      image = np.transpose(image, (2, 0, 1)).astype(np.float32)\n",
        "      return torch.tensor(image, dtype=torch.float), label"
      ],
      "metadata": {
        "id": "PyKV9Y8fyW3D"
      },
      "execution_count": 5,
      "outputs": []
    },
    {
      "cell_type": "code",
      "source": [
        "SEED = 69\n",
        "\n",
        "# CUDA?\n",
        "cuda = torch.cuda.is_available()\n",
        "print(\"CUDA Available:\", cuda)\n",
        "\n",
        "# For reproducibility\n",
        "torch.manual_seed(SEED)\n",
        "\n",
        "if cuda:\n",
        "    torch.cuda.manual_seed(SEED)\n",
        "    BATCH_SIZE=512\n",
        "else:\n",
        "    BATCH_SIZE=512"
      ],
      "metadata": {
        "colab": {
          "base_uri": "https://localhost:8080/"
        },
        "id": "Bqz0cdPbyYY_",
        "outputId": "5ef5f7b5-4abe-4d1e-ec03-b27aecceee9e"
      },
      "execution_count": 6,
      "outputs": [
        {
          "output_type": "stream",
          "name": "stdout",
          "text": [
            "CUDA Available: True\n"
          ]
        }
      ]
    },
    {
      "cell_type": "code",
      "source": [
        "trainset = torchvision.datasets.CIFAR10(root='./data', train=True,\n",
        "                                        download=True )\n",
        "testset = torchvision.datasets.CIFAR10(root='./data', train=False,\n",
        "                                       download=True)\n",
        "\n",
        "\n",
        "train_loader = torch.utils.data.DataLoader(AlbumentationImageDataset(trainset, train=True), batch_size=BATCH_SIZE,\n",
        "                                          shuffle=True, num_workers=2)\n",
        "test_loader = torch.utils.data.DataLoader(AlbumentationImageDataset(testset, train=False), batch_size=BATCH_SIZE,\n",
        "                                          shuffle=False, num_workers=1)"
      ],
      "metadata": {
        "colab": {
          "base_uri": "https://localhost:8080/",
          "height": 101,
          "referenced_widgets": [
            "121f6bdd8e8d4286a03863ebc66ea4bb",
            "c552cc98e24444b78cbc5315ef08eb43",
            "e4e575279cd94bc49def46b94ac32b98",
            "f344c830304e41be9677596fa4d14f13",
            "9f85cb9eb53e41a6a0cd10d1994327ff",
            "1f5f810c724e4b67bd0483f024af4849",
            "6f2e683eb02b4df6b5ab14f07ec383bc",
            "3c202ff8777a47bcb3ce06040b3191a1",
            "89aea9a1cbae4e88bc263bda48b163a6",
            "bf0304e90e1b4e5b91b4375ee803a917",
            "2e3197fb76b746029f8f3a46bd440021"
          ]
        },
        "id": "f7s0kiAXyarh",
        "outputId": "92f4e1e1-5bca-4b73-a421-5015fda1f69c"
      },
      "execution_count": 7,
      "outputs": [
        {
          "output_type": "stream",
          "name": "stdout",
          "text": [
            "Downloading https://www.cs.toronto.edu/~kriz/cifar-10-python.tar.gz to ./data/cifar-10-python.tar.gz\n"
          ]
        },
        {
          "output_type": "display_data",
          "data": {
            "text/plain": [
              "  0%|          | 0/170498071 [00:00<?, ?it/s]"
            ],
            "application/vnd.jupyter.widget-view+json": {
              "version_major": 2,
              "version_minor": 0,
              "model_id": "121f6bdd8e8d4286a03863ebc66ea4bb"
            }
          },
          "metadata": {}
        },
        {
          "output_type": "stream",
          "name": "stdout",
          "text": [
            "Extracting ./data/cifar-10-python.tar.gz to ./data\n",
            "Files already downloaded and verified\n"
          ]
        }
      ]
    },
    {
      "cell_type": "code",
      "source": [
        "use_cuda = torch.cuda.is_available()\n",
        "device = torch.device(\"cuda\" if use_cuda else \"cpu\")\n",
        "print(device)\n",
        "net = CustomTransformer().to(device)\n",
        "summary(net, input_size=(3, 32, 32))"
      ],
      "metadata": {
        "colab": {
          "base_uri": "https://localhost:8080/"
        },
        "id": "Dxusubf3ycaw",
        "outputId": "563ad4cb-e9f8-409d-a6e5-5c6f7d93f139"
      },
      "execution_count": 8,
      "outputs": [
        {
          "output_type": "stream",
          "name": "stdout",
          "text": [
            "cuda\n",
            "----------------------------------------------------------------\n",
            "        Layer (type)               Output Shape         Param #\n",
            "================================================================\n",
            "            Conv2d-1           [-1, 16, 30, 30]             448\n",
            "       BatchNorm2d-2           [-1, 16, 30, 30]              32\n",
            "              ReLU-3           [-1, 16, 30, 30]               0\n",
            "           Dropout-4           [-1, 16, 30, 30]               0\n",
            "            Conv2d-5           [-1, 32, 28, 28]           4,640\n",
            "       BatchNorm2d-6           [-1, 32, 28, 28]              64\n",
            "              ReLU-7           [-1, 32, 28, 28]               0\n",
            "           Dropout-8           [-1, 32, 28, 28]               0\n",
            "            Conv2d-9           [-1, 48, 26, 26]          13,872\n",
            "      BatchNorm2d-10           [-1, 48, 26, 26]              96\n",
            "             ReLU-11           [-1, 48, 26, 26]               0\n",
            "          Dropout-12           [-1, 48, 26, 26]               0\n",
            "AdaptiveAvgPool2d-13             [-1, 48, 1, 1]               0\n",
            "           Linear-14                   [-1, 48]           2,304\n",
            "           Linear-15                   [-1, 48]           2,304\n",
            "           Linear-16                   [-1, 48]           2,304\n",
            "           Linear-17                [-1, 1, 48]           2,304\n",
            "     UltimusBlock-18                [-1, 1, 48]               0\n",
            "           Linear-19                [-1, 1, 48]           2,304\n",
            "           Linear-20                [-1, 1, 48]           2,304\n",
            "           Linear-21                [-1, 1, 48]           2,304\n",
            "           Linear-22                [-1, 1, 48]           2,304\n",
            "     UltimusBlock-23                [-1, 1, 48]               0\n",
            "           Linear-24                [-1, 1, 48]           2,304\n",
            "           Linear-25                [-1, 1, 48]           2,304\n",
            "           Linear-26                [-1, 1, 48]           2,304\n",
            "           Linear-27                [-1, 1, 48]           2,304\n",
            "     UltimusBlock-28                [-1, 1, 48]               0\n",
            "           Linear-29                [-1, 1, 48]           2,304\n",
            "           Linear-30                [-1, 1, 48]           2,304\n",
            "           Linear-31                [-1, 1, 48]           2,304\n",
            "           Linear-32                [-1, 1, 48]           2,304\n",
            "     UltimusBlock-33                [-1, 1, 48]               0\n",
            "           Linear-34                [-1, 1, 10]             480\n",
            "================================================================\n",
            "Total params: 56,496\n",
            "Trainable params: 56,496\n",
            "Non-trainable params: 0\n",
            "----------------------------------------------------------------\n",
            "Input size (MB): 0.01\n",
            "Forward/backward pass size (MB): 2.20\n",
            "Params size (MB): 0.22\n",
            "Estimated Total Size (MB): 2.43\n",
            "----------------------------------------------------------------\n"
          ]
        }
      ]
    },
    {
      "cell_type": "code",
      "source": [
        "from torch_lr_finder import LRFinder\n",
        "\n",
        "\n",
        "def find_lr(net, optimizer, criterion, train_loader, device):\n",
        "    \"\"\"Find learning rate for using One Cyclic LRFinder\n",
        "    Args:\n",
        "        net (instace): torch instace of defined model\n",
        "        optimizer (instance): optimizer to be used\n",
        "        criterion (instance): criterion to be used for calculating loss\n",
        "        train_loader (instance): torch dataloader instace for trainig set\n",
        "    \"\"\"\n",
        "    lr_finder = LRFinder(net, optimizer, criterion, device)\n",
        "    lr_finder.range_test(train_loader, end_lr=0.001, num_iter=200, step_mode=\"exp\")\n",
        "    lr_finder.plot()\n",
        "    lr_finder.reset()\n",
        "    min_loss = min(lr_finder.history['loss'])\n",
        "    ler_rate = lr_finder.history['lr'][np.argmin(lr_finder.history['loss'], axis=0)]\n",
        "    print(f'Max LR is {ler_rate}')\n",
        "\n",
        "    return ler_rate"
      ],
      "metadata": {
        "id": "eTbWefrwyeyJ"
      },
      "execution_count": 9,
      "outputs": []
    },
    {
      "cell_type": "code",
      "source": [
        "optimizer = torch.optim.Adam(net.parameters(), lr=1e-7)\n",
        "criterion = nn.CrossEntropyLoss()\n",
        "ler_rate = find_lr(net, optimizer, criterion, train_loader, device)"
      ],
      "metadata": {
        "colab": {
          "base_uri": "https://localhost:8080/",
          "height": 555,
          "referenced_widgets": [
            "92a8e6c2e79d4c7d92dd923d379dd1fe",
            "4cbd2688d912445ebeacf295d0c40053",
            "450a832b3ec34fb4aab94ea63692a739",
            "5f27a9afbba24fcaa61395935995de36",
            "cc682da9830943479619982b4c79f8d4",
            "7bf062c49f2044c2ac313a21f8cfe12d",
            "f2fb0fcd3e3a4866a59c927bbfd13b1d",
            "fe5f9d8271404ee29666652b18102e02",
            "c2563e992b564b479ad28f49bb49e9ec",
            "e53242929aa647348706bc49545b8191",
            "076de0463e7b4dcd9e40cbd7b70b5b16"
          ]
        },
        "id": "F--d8JyKygZK",
        "outputId": "0fd58b4f-c584-4649-af07-2d8e9cb25e11"
      },
      "execution_count": 10,
      "outputs": [
        {
          "output_type": "display_data",
          "data": {
            "text/plain": [
              "  0%|          | 0/200 [00:00<?, ?it/s]"
            ],
            "application/vnd.jupyter.widget-view+json": {
              "version_major": 2,
              "version_minor": 0,
              "model_id": "92a8e6c2e79d4c7d92dd923d379dd1fe"
            }
          },
          "metadata": {}
        },
        {
          "output_type": "stream",
          "name": "stdout",
          "text": [
            "Learning rate search finished. See the graph with {finder_name}.plot()\n",
            "LR suggestion: steepest gradient\n",
            "Suggested LR: 4.77E-04\n"
          ]
        },
        {
          "output_type": "display_data",
          "data": {
            "text/plain": [
              "<Figure size 640x480 with 1 Axes>"
            ],
            "image/png": "[encoded data removed]"
          },
          "metadata": {}
        },
        {
          "output_type": "stream",
          "name": "stdout",
          "text": [
            "Max LR is 0.001\n"
          ]
        }
      ]
    },
    {
      "cell_type": "code",
      "source": [
        "scheduler = torch.optim.lr_scheduler.OneCycleLR(optimizer, \n",
        "                                                max_lr=ler_rate,\n",
        "                                                steps_per_epoch=len(train_loader), \n",
        "                                                epochs=24,\n",
        "                                                pct_start=(5/24),\n",
        "                                                div_factor=100,\n",
        "                                                three_phase=False, \n",
        "                                                final_div_factor=1000,\n",
        "                                                anneal_strategy='linear'\n",
        "                                                )\n",
        "\n",
        "net, history = fit_model(\n",
        "    net=net,\n",
        "    device=device,\n",
        "    optimizer=optimizer,\n",
        "    criterion=criterion,\n",
        "    NUM_EPOCHS=24,\n",
        "    train_loader=train_loader,\n",
        "    test_loader=test_loader,\n",
        "    scheduler=scheduler\n",
        ")"
      ],
      "metadata": {
        "colab": {
          "base_uri": "https://localhost:8080/"
        },
        "id": "xQwl1_5tysTq",
        "outputId": "66d2be54-2a9a-49e1-eb1a-fd3e69bc55f3"
      },
      "execution_count": 11,
      "outputs": [
        {
          "output_type": "stream",
          "name": "stdout",
          "text": [
            "EPOCH: 1 (LR: 1e-05)\n"
          ]
        },
        {
          "output_type": "stream",
          "name": "stderr",
          "text": [
            "Batch_id=97 Loss=2.29396 Accuracy=14.97:   0%|          | 0/98 [00:16<?, ?it/s]\n"
          ]
        },
        {
          "output_type": "stream",
          "name": "stdout",
          "text": [
            "\n",
            "Test set: Average loss: 2.1600, Accuracy: 1672/10000 (16.72%)\n",
            "\n",
            "EPOCH: 2 (LR: 0.00020840490797546012)\n"
          ]
        },
        {
          "output_type": "stream",
          "name": "stderr",
          "text": [
            "Batch_id=97 Loss=2.02446 Accuracy=18.39:   0%|          | 0/98 [00:15<?, ?it/s]\n"
          ]
        },
        {
          "output_type": "stream",
          "name": "stdout",
          "text": [
            "\n",
            "Test set: Average loss: 1.9402, Accuracy: 1879/10000 (18.79%)\n",
            "\n",
            "EPOCH: 3 (LR: 0.0004068098159509203)\n"
          ]
        },
        {
          "output_type": "stream",
          "name": "stderr",
          "text": [
            "Batch_id=97 Loss=1.91447 Accuracy=20.36:   0%|          | 0/98 [00:16<?, ?it/s]\n"
          ]
        },
        {
          "output_type": "stream",
          "name": "stdout",
          "text": [
            "\n",
            "Test set: Average loss: 1.8610, Accuracy: 2305/10000 (23.05%)\n",
            "\n",
            "EPOCH: 4 (LR: 0.0006052147239263804)\n"
          ]
        },
        {
          "output_type": "stream",
          "name": "stderr",
          "text": [
            "Batch_id=97 Loss=1.88966 Accuracy=22.01:   0%|          | 0/98 [00:17<?, ?it/s]\n"
          ]
        },
        {
          "output_type": "stream",
          "name": "stdout",
          "text": [
            "\n",
            "Test set: Average loss: 1.9760, Accuracy: 2055/10000 (20.55%)\n",
            "\n",
            "EPOCH: 5 (LR: 0.0008036196319018405)\n"
          ]
        },
        {
          "output_type": "stream",
          "name": "stderr",
          "text": [
            "Batch_id=97 Loss=1.86934 Accuracy=22.76:   0%|          | 0/98 [00:16<?, ?it/s]\n"
          ]
        },
        {
          "output_type": "stream",
          "name": "stdout",
          "text": [
            "\n",
            "Test set: Average loss: 1.8328, Accuracy: 2373/10000 (23.73%)\n",
            "\n",
            "EPOCH: 6 (LR: 0.000999462948442535)\n"
          ]
        },
        {
          "output_type": "stream",
          "name": "stderr",
          "text": [
            "Batch_id=97 Loss=1.83805 Accuracy=25.34:   0%|          | 0/98 [00:16<?, ?it/s]\n"
          ]
        },
        {
          "output_type": "stream",
          "name": "stdout",
          "text": [
            "\n",
            "Test set: Average loss: 1.8528, Accuracy: 2633/10000 (26.33%)\n",
            "\n",
            "EPOCH: 7 (LR: 0.000946831895810956)\n"
          ]
        },
        {
          "output_type": "stream",
          "name": "stderr",
          "text": [
            "Batch_id=97 Loss=1.80958 Accuracy=26.74:   0%|          | 0/98 [00:15<?, ?it/s]\n"
          ]
        },
        {
          "output_type": "stream",
          "name": "stdout",
          "text": [
            "\n",
            "Test set: Average loss: 1.7561, Accuracy: 2736/10000 (27.36%)\n",
            "\n",
            "EPOCH: 8 (LR: 0.0008942008431793771)\n"
          ]
        },
        {
          "output_type": "stream",
          "name": "stderr",
          "text": [
            "Batch_id=97 Loss=1.78304 Accuracy=28.51:   0%|          | 0/98 [00:17<?, ?it/s]\n"
          ]
        },
        {
          "output_type": "stream",
          "name": "stdout",
          "text": [
            "\n",
            "Test set: Average loss: 1.8223, Accuracy: 2764/10000 (27.64%)\n",
            "\n",
            "EPOCH: 9 (LR: 0.0008415697905477981)\n"
          ]
        },
        {
          "output_type": "stream",
          "name": "stderr",
          "text": [
            "Batch_id=97 Loss=1.76323 Accuracy=29.29:   0%|          | 0/98 [00:16<?, ?it/s]\n"
          ]
        },
        {
          "output_type": "stream",
          "name": "stdout",
          "text": [
            "\n",
            "Test set: Average loss: 2.2814, Accuracy: 2304/10000 (23.04%)\n",
            "\n",
            "EPOCH: 10 (LR: 0.0007889387379162191)\n"
          ]
        },
        {
          "output_type": "stream",
          "name": "stderr",
          "text": [
            "Batch_id=97 Loss=1.75454 Accuracy=29.95:   0%|          | 0/98 [00:16<?, ?it/s]\n"
          ]
        },
        {
          "output_type": "stream",
          "name": "stdout",
          "text": [
            "\n",
            "Test set: Average loss: 1.7802, Accuracy: 2958/10000 (29.58%)\n",
            "\n",
            "EPOCH: 11 (LR: 0.0007363076852846401)\n"
          ]
        },
        {
          "output_type": "stream",
          "name": "stderr",
          "text": [
            "Batch_id=97 Loss=1.73007 Accuracy=31.53:   0%|          | 0/98 [00:16<?, ?it/s]\n"
          ]
        },
        {
          "output_type": "stream",
          "name": "stdout",
          "text": [
            "\n",
            "Test set: Average loss: 1.7080, Accuracy: 3203/10000 (32.03%)\n",
            "\n",
            "EPOCH: 12 (LR: 0.0006836766326530613)\n"
          ]
        },
        {
          "output_type": "stream",
          "name": "stderr",
          "text": [
            "Batch_id=97 Loss=1.71815 Accuracy=32.01:   0%|          | 0/98 [00:16<?, ?it/s]\n"
          ]
        },
        {
          "output_type": "stream",
          "name": "stdout",
          "text": [
            "\n",
            "Test set: Average loss: 1.9589, Accuracy: 2517/10000 (25.17%)\n",
            "\n",
            "EPOCH: 13 (LR: 0.0006310455800214822)\n"
          ]
        },
        {
          "output_type": "stream",
          "name": "stderr",
          "text": [
            "Batch_id=97 Loss=1.70841 Accuracy=32.65:   0%|          | 0/98 [00:16<?, ?it/s]\n"
          ]
        },
        {
          "output_type": "stream",
          "name": "stdout",
          "text": [
            "\n",
            "Test set: Average loss: 1.6931, Accuracy: 3477/10000 (34.77%)\n",
            "\n",
            "EPOCH: 14 (LR: 0.0005784145273899033)\n"
          ]
        },
        {
          "output_type": "stream",
          "name": "stderr",
          "text": [
            "Batch_id=97 Loss=1.69499 Accuracy=33.16:   0%|          | 0/98 [00:16<?, ?it/s]\n"
          ]
        },
        {
          "output_type": "stream",
          "name": "stdout",
          "text": [
            "\n",
            "Test set: Average loss: 1.6915, Accuracy: 3383/10000 (33.83%)\n",
            "\n",
            "EPOCH: 15 (LR: 0.0005257834747583244)\n"
          ]
        },
        {
          "output_type": "stream",
          "name": "stderr",
          "text": [
            "Batch_id=97 Loss=1.68437 Accuracy=33.63:   0%|          | 0/98 [00:16<?, ?it/s]\n"
          ]
        },
        {
          "output_type": "stream",
          "name": "stdout",
          "text": [
            "\n",
            "Test set: Average loss: 1.7140, Accuracy: 3313/10000 (33.13%)\n",
            "\n",
            "EPOCH: 16 (LR: 0.00047315242212674536)\n"
          ]
        },
        {
          "output_type": "stream",
          "name": "stderr",
          "text": [
            "Batch_id=97 Loss=1.67383 Accuracy=33.79:   0%|          | 0/98 [00:16<?, ?it/s]\n"
          ]
        },
        {
          "output_type": "stream",
          "name": "stdout",
          "text": [
            "\n",
            "Test set: Average loss: 1.6594, Accuracy: 3547/10000 (35.47%)\n",
            "\n",
            "EPOCH: 17 (LR: 0.00042052136949516654)\n"
          ]
        },
        {
          "output_type": "stream",
          "name": "stderr",
          "text": [
            "Batch_id=97 Loss=1.66653 Accuracy=33.91:   0%|          | 0/98 [00:16<?, ?it/s]\n"
          ]
        },
        {
          "output_type": "stream",
          "name": "stdout",
          "text": [
            "\n",
            "Test set: Average loss: 1.7531, Accuracy: 3343/10000 (33.43%)\n",
            "\n",
            "EPOCH: 18 (LR: 0.0003678903168635875)\n"
          ]
        },
        {
          "output_type": "stream",
          "name": "stderr",
          "text": [
            "Batch_id=97 Loss=1.65664 Accuracy=34.46:   0%|          | 0/98 [00:17<?, ?it/s]\n"
          ]
        },
        {
          "output_type": "stream",
          "name": "stdout",
          "text": [
            "\n",
            "Test set: Average loss: 1.6984, Accuracy: 3471/10000 (34.71%)\n",
            "\n",
            "EPOCH: 19 (LR: 0.0003152592642320085)\n"
          ]
        },
        {
          "output_type": "stream",
          "name": "stderr",
          "text": [
            "Batch_id=97 Loss=1.65714 Accuracy=34.19:   0%|          | 0/98 [00:17<?, ?it/s]\n"
          ]
        },
        {
          "output_type": "stream",
          "name": "stdout",
          "text": [
            "\n",
            "Test set: Average loss: 1.6428, Accuracy: 3524/10000 (35.24%)\n",
            "\n",
            "EPOCH: 20 (LR: 0.00026262821160042966)\n"
          ]
        },
        {
          "output_type": "stream",
          "name": "stderr",
          "text": [
            "Batch_id=97 Loss=1.64964 Accuracy=34.70:   0%|          | 0/98 [00:16<?, ?it/s]\n"
          ]
        },
        {
          "output_type": "stream",
          "name": "stdout",
          "text": [
            "\n",
            "Test set: Average loss: 1.6451, Accuracy: 3579/10000 (35.79%)\n",
            "\n",
            "EPOCH: 21 (LR: 0.00020999715896885063)\n"
          ]
        },
        {
          "output_type": "stream",
          "name": "stderr",
          "text": [
            "Batch_id=97 Loss=1.63956 Accuracy=34.91:   0%|          | 0/98 [00:16<?, ?it/s]\n"
          ]
        },
        {
          "output_type": "stream",
          "name": "stdout",
          "text": [
            "\n",
            "Test set: Average loss: 1.6158, Accuracy: 3655/10000 (36.55%)\n",
            "\n",
            "EPOCH: 22 (LR: 0.0001573661063372717)\n"
          ]
        },
        {
          "output_type": "stream",
          "name": "stderr",
          "text": [
            "Batch_id=97 Loss=1.63892 Accuracy=35.17:   0%|          | 0/98 [00:16<?, ?it/s]\n"
          ]
        },
        {
          "output_type": "stream",
          "name": "stdout",
          "text": [
            "\n",
            "Test set: Average loss: 1.6072, Accuracy: 3728/10000 (37.28%)\n",
            "\n",
            "EPOCH: 23 (LR: 0.00010473505370569268)\n"
          ]
        },
        {
          "output_type": "stream",
          "name": "stderr",
          "text": [
            "Batch_id=97 Loss=1.63002 Accuracy=35.44:   0%|          | 0/98 [00:16<?, ?it/s]\n"
          ]
        },
        {
          "output_type": "stream",
          "name": "stdout",
          "text": [
            "\n",
            "Test set: Average loss: 1.6137, Accuracy: 3634/10000 (36.34%)\n",
            "\n",
            "EPOCH: 24 (LR: 5.210400107411386e-05)\n"
          ]
        },
        {
          "output_type": "stream",
          "name": "stderr",
          "text": [
            "Batch_id=97 Loss=1.62511 Accuracy=35.79:   0%|          | 0/98 [00:16<?, ?it/s]\n"
          ]
        },
        {
          "output_type": "stream",
          "name": "stdout",
          "text": [
            "\n",
            "Test set: Average loss: 1.6137, Accuracy: 3655/10000 (36.55%)\n",
            "\n"
          ]
        }
      ]
    },
    {
      "cell_type": "code",
      "source": [
        "train_acc, train_losses, test_acc, test_losses, _ = history\n",
        "\n",
        "fig, axs = plt.subplots(2,2,figsize=(15,10))\n",
        "axs[0, 0].plot(train_losses)\n",
        "axs[0, 0].set_title(\"Training Loss\")\n",
        "axs[1, 0].plot(train_acc)\n",
        "axs[1, 0].set_title(\"Training Accuracy\")\n",
        "axs[0, 1].plot(test_losses)\n",
        "axs[0, 1].set_title(\"Test Loss\")\n",
        "axs[1, 1].plot(test_acc)\n",
        "axs[1, 1].set_title(\"Test Accuracy\")"
      ],
      "metadata": {
        "colab": {
          "base_uri": "https://localhost:8080/",
          "height": 870
        },
        "id": "YxbQJu_S1cfp",
        "outputId": "c6c8f9d5-a5bd-4841-bf00-be0d9ada4729"
      },
      "execution_count": 19,
      "outputs": [
        {
          "output_type": "execute_result",
          "data": {
            "text/plain": [
              "Text(0.5, 1.0, 'Test Accuracy')"
            ]
          },
          "metadata": {},
          "execution_count": 19
        },
        {
          "output_type": "display_data",
          "data": {
            "text/plain": [
              "<Figure size 1500x1000 with 4 Axes>"
            ],
            "image/png": "[encoded data removed]"
          },
          "metadata": {}
        }
      ]
    },
    {
      "cell_type": "code",
      "source": [],
      "metadata": {
        "id": "BrAmQczyZ5f3"
      },
      "execution_count": null,
      "outputs": []
    }
  ]
}